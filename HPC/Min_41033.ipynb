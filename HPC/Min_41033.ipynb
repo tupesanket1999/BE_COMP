{
  "nbformat": 4,
  "nbformat_minor": 0,
  "metadata": {
    "colab": {
      "name": "Min_41033.ipynb",
      "provenance": [],
      "collapsed_sections": []
    },
    "kernelspec": {
      "name": "python3",
      "display_name": "Python 3"
    },
    "accelerator": "GPU"
  },
  "cells": [
    {
      "cell_type": "code",
      "metadata": {
        "id": "M-BX3BOU6rho",
        "outputId": "23ad6f29-0531-4af7-ca93-ac405edd8896",
        "colab": {
          "base_uri": "https://localhost:8080/"
        }
      },
      "source": [
        "!nvcc --version"
      ],
      "execution_count": null,
      "outputs": [
        {
          "output_type": "stream",
          "text": [
            "nvcc: NVIDIA (R) Cuda compiler driver\n",
            "Copyright (c) 2005-2019 NVIDIA Corporation\n",
            "Built on Sun_Jul_28_19:07:16_PDT_2019\n",
            "Cuda compilation tools, release 10.1, V10.1.243\n"
          ],
          "name": "stdout"
        }
      ]
    },
    {
      "cell_type": "code",
      "metadata": {
        "id": "9EYPTQWaO1e_",
        "outputId": "b6b97ffb-cd81-4497-a3d6-a5299504e199",
        "colab": {
          "base_uri": "https://localhost:8080/"
        }
      },
      "source": [
        "!pip install git+git://github.com/andreinechaev/nvcc4jupyter.git"
      ],
      "execution_count": null,
      "outputs": [
        {
          "output_type": "stream",
          "text": [
            "Collecting git+git://github.com/andreinechaev/nvcc4jupyter.git\n",
            "  Cloning git://github.com/andreinechaev/nvcc4jupyter.git to /tmp/pip-req-build-oyighj21\n",
            "  Running command git clone -q git://github.com/andreinechaev/nvcc4jupyter.git /tmp/pip-req-build-oyighj21\n",
            "Requirement already satisfied (use --upgrade to upgrade): NVCCPlugin==0.0.2 from git+git://github.com/andreinechaev/nvcc4jupyter.git in /usr/local/lib/python3.6/dist-packages\n",
            "Building wheels for collected packages: NVCCPlugin\n",
            "  Building wheel for NVCCPlugin (setup.py) ... \u001b[?25l\u001b[?25hdone\n",
            "  Created wheel for NVCCPlugin: filename=NVCCPlugin-0.0.2-cp36-none-any.whl size=4307 sha256=4e5ee3cae60ba93edad962b77347798fda9d7fa3cc2a320087c5775e605c149d\n",
            "  Stored in directory: /tmp/pip-ephem-wheel-cache-fqc154xj/wheels/10/c2/05/ca241da37bff77d60d31a9174f988109c61ba989e4d4650516\n",
            "Successfully built NVCCPlugin\n"
          ],
          "name": "stdout"
        }
      ]
    },
    {
      "cell_type": "code",
      "metadata": {
        "id": "Jk54X_UbO86i",
        "outputId": "377b377f-6ce3-4865-da37-e83c14bdf4ae",
        "colab": {
          "base_uri": "https://localhost:8080/"
        }
      },
      "source": [
        "%load_ext nvcc_plugin"
      ],
      "execution_count": null,
      "outputs": [
        {
          "output_type": "stream",
          "text": [
            "The nvcc_plugin extension is already loaded. To reload it, use:\n",
            "  %reload_ext nvcc_plugin\n"
          ],
          "name": "stdout"
        }
      ]
    },
    {
      "cell_type": "code",
      "metadata": {
        "id": "qX-UnYbZ7WG2",
        "outputId": "bb84b987-6abd-4bde-fe8c-7bd078736759",
        "colab": {
          "base_uri": "https://localhost:8080/"
        }
      },
      "source": [
        "%%cu\n",
        "#include <stdio.h>\n",
        "#include <stdlib.h>\n",
        "#include <cuda.h>\n",
        "#include <cstring>\n",
        "#include <ctime>\n",
        "#define N 1024*12\n",
        "// Device Kernel\n",
        "__global__ void min(float *A, float *S)\n",
        " {\n",
        "   \t//holds intermediates in shared memory reduction\n",
        "    \t__shared__ int sdata[N];\n",
        "\n",
        "    \tint tid=threadIdx.x;\n",
        "    \tint i = blockIdx.x * blockDim.x + threadIdx.x;\n",
        "\tsdata[tid]=A[i];\n",
        "        __syncthreads();\n",
        "\n",
        "  \tfor (unsigned int s=1; s>blockDim.x; s *=2) \n",
        "  \t{\n",
        "\t\tif (tid %(2*s)==0) \n",
        "\t\t{\n",
        "\t\t   if (sdata[tid] >sdata[tid + s]){\n",
        "\t\t\t sdata[tid] = sdata[tid + s];\n",
        "\t\t}\n",
        "\t \t__syncthreads();\n",
        "   \t}\t\n",
        "\t\t}\t  \n",
        "\n",
        "   \tif(tid==0) \n",
        "\t\tS[blockIdx.x]=sdata[0];\n",
        "\n",
        "}\n",
        "\n",
        "//host Function\n",
        "float cpu_min(float *A) {\n",
        "\n",
        "  float min;\n",
        "  min=A[0];\n",
        "     for(int i = 1; i < N; i++) {\n",
        "          if(min>A[i]){\n",
        "\t\t\t    \n",
        "\t\t\t\tmin=A[i];\n",
        "\t\t  }\n",
        "    }\n",
        "\n",
        "    \n",
        "  return min;\n",
        "  \n",
        "} \n",
        "// host code\n",
        "int main()\n",
        "{\n",
        "   \n",
        "\tsize_t size = N * sizeof(float);\n",
        "\t\n",
        "\tFILE *f;\n",
        "\tf=fopen(\"min.txt\",\"w\");\n",
        "\t\n",
        "\tfloat S;\n",
        "\tclock_t start,stop;\n",
        "\t   \n",
        "   \tprintf(\"\\nName of the Model= Data Parallel Model\\n\");\n",
        "\n",
        "\tfloat* d_A;\n",
        "\tfloat* d_S;\n",
        "        \n",
        "        int threadsPerBlock;\n",
        "\tif (N<=1024) \n",
        "\t\tthreadsPerBlock=N;\n",
        "\telse \n",
        "\t\tthreadsPerBlock=1024;\n",
        "\t\t\n",
        "    \tint blocksPerGrid =(N + threadsPerBlock - 1) / threadsPerBlock;\n",
        "\tprintf(\"\\nblocksPerGrid=%d\\n\",blocksPerGrid);\n",
        "\t\n",
        "\t// Allocate input vectors h_A and h_B in host memory\n",
        "\tfloat* h_A = (float*)malloc(size);\t\t\t\t\n",
        "\tfloat* h_S = (float*)malloc(sizeof(float)*blocksPerGrid);\n",
        "\t\n",
        "\tsrand(time(NULL));\n",
        "\t// Initialize input vectors\n",
        "\tfor(int i = 0; i < N; i++) \n",
        "     {\t\t\t\t\t\n",
        "     \th_A[i] =5+i;//rand()%100;\n",
        "    \t}\n",
        "\n",
        "\tcudaMalloc(&d_A, size);\t\t\t\t\t\t\n",
        "\tcudaMalloc(&d_S, sizeof(float)*blocksPerGrid);\n",
        "\t\n",
        "\t// Copy vectors from host memory to device memory\n",
        "\tcudaError err1 =cudaMemcpy(d_A, h_A, size, cudaMemcpyHostToDevice); \n",
        "\tif(err1!=cudaSuccess) {\n",
        "      printf(\"CUDA error copying to Device: %s\\n\", cudaGetErrorString(err1));\n",
        "    }\t\t\n",
        "\t\n",
        " \t//Parallel Computation\n",
        " \tstart = std::clock();\n",
        " \t//Invoke kernal\n",
        "    \tmin<<<blocksPerGrid,threadsPerBlock>>>(d_A, d_S);\n",
        "\t\n",
        "\tstop = std::clock();\t\t\n",
        "\t \n",
        "   \tlong int time=stop - start;\n",
        "    \t// Copy result from device memory to host memory\n",
        "    \tcudaError err =cudaMemcpy(h_S, d_S, sizeof(float)*blocksPerGrid, cudaMemcpyDeviceToHost);\n",
        "\tif(err!=cudaSuccess) {\n",
        "      printf(\"CUDA error copying to Host: %s\\n\", cudaGetErrorString(err));\n",
        "    }\n",
        "     float b=h_S[0];\n",
        "for(int i = 1; i < blocksPerGrid; i++) \n",
        "\t{\n",
        "       \tif(h_S[i]<b)\n",
        "\t\tb=h_S[i];\n",
        "\t}\n",
        "\t\tprintf(\"%f\\t\", b);\n",
        "        \n",
        "\t\t\n",
        "\t\n",
        "\t//Storing in file\t\n",
        "      \tfor(int i=0;i<N;i++)\n",
        "\t{\n",
        "\t\tfprintf(f,\"%f \",h_A[i]);              //if correctly computed, then all values must be N\n",
        "\t\tfprintf(f,\"\\n\");\n",
        "\t}\n",
        "\n",
        "\t//write cuda result in file\n",
        "\tfprintf(f,\"Cuda Result= %f \",b);\n",
        "\t\n",
        "\tprintf(\"_________________________Parallel______________________________\\n\t\\n\");\n",
        "\t\n",
        "\t//print result on terminal\n",
        "\tprintf(\"Cuda Result= %f \",b);\n",
        "\t\n",
        "\tprintf(\"\\n\\nExecution Time of parallel Implementation= %ld (ms)\\n\",time);\n",
        "\t\n",
        "\t// Free device memory\n",
        "\tcudaFree(d_A);\n",
        "\tcudaFree(d_S);\n",
        "        \n",
        "\tprintf(\"\\n_________________________Sequential____________________________________\\n\t\");\n",
        "\t\n",
        "  \t//Sequential Computations\n",
        "  \tstart = std::clock();\n",
        "  \t\n",
        "  \t//Invoke CPU function\n",
        "  \tS=cpu_min(h_A);\n",
        "  \t\t\t\t\t\t\n",
        "  \tstop = std::clock();\n",
        "  \t\n",
        "  \t//Storing in file\n",
        "  \tfprintf(f,\"\\nCPU Result= %f \",S);\n",
        "\tprintf(\"\\nCPU Result= %f \",S);\n",
        "\t\n",
        " \tlong int Stime=stop - start;\n",
        " \t\n",
        "  \tprintf(\"\\n\\nExecution Time of Sequential Implementation= %ld (ms)\\n\",Stime );\n",
        "\tprintf(\"_______________________________________________________________________\t\");\n",
        "    \n",
        " \tint cores=2560; //teslaT4 SM=40 Core=2560\n",
        "\n",
        "\n",
        "\t//total  number of cores\n",
        "   \tprintf(\"\\n\\nNo. of cores:%d\\n\",cores);\n",
        "   \t//Total cost is execution time * number of processors\n",
        "   \tprintf(\"\\nTotal cost=Execution Time * Number ofprocessors used = %ld\",time*cores);\n",
        "   \t\n",
        "   \tfloat speedup = float(Stime)/float(time);\n",
        "   \tprintf(\"\\nSpeedUp = Squential Time/Parallel Time = %f\",speedup);\n",
        "   \t\n",
        "   \tfloat efficiency = speedup/float(cores);\n",
        "   \tprintf(\"\\nEfficiency = SpeedUp/Number Of Processors Used =%f\\n\",efficiency);\n",
        "   \t\n",
        "       //Based on the result.CSV file you have to draw graph\n",
        "\tFILE *f1;\n",
        "\tf1 = fopen(\"Result.csv\",\"a\");\n",
        "\t//fprintf(f1,\"N,SERIAL_TIME,PARALLEL_TIME,TOTAL_COST,SPEEDUP,EFFICIENCY\\n\");\n",
        "\tfprintf(f1, \"%d,%ld,%ld,%ld,%f,%f\\n\",N,Stime,time,time*cores,speedup,efficiency);\n",
        "\t//fprintf(f1,\"--------------------------------------------------------------------------------------------------------------------\\n\");\n",
        "\t\n",
        "\t// Free host memory      \n",
        "\tfree(h_S);  \n",
        "\tfree(h_A);\n",
        "}"
      ],
      "execution_count": null,
      "outputs": [
        {
          "output_type": "stream",
          "text": [
            "\n",
            "Name of the Model= Data Parallel Model\n",
            "\n",
            "blocksPerGrid=12\n",
            "5.000000\t_________________________Parallel______________________________\n",
            "\t\n",
            "Cuda Result= 5.000000 \n",
            "\n",
            "Execution Time of parallel Implementation= 15 (ms)\n",
            "\n",
            "_________________________Sequential____________________________________\n",
            "\t\n",
            "CPU Result= 5.000000 \n",
            "\n",
            "Execution Time of Sequential Implementation= 28 (ms)\n",
            "_______________________________________________________________________\t\n",
            "\n",
            "No. of cores:2560\n",
            "\n",
            "Total cost=Execution Time * Number ofprocessors used = 38400\n",
            "SpeedUp = Squential Time/Parallel Time = 1.866667\n",
            "Efficiency = SpeedUp/Number Of Processors Used =0.000729\n",
            "\n"
          ],
          "name": "stdout"
        }
      ]
    },
    {
      "cell_type": "code",
      "metadata": {
        "id": "4ycH7lUx8wuh",
        "outputId": "4375931d-a499-4123-cd72-0acd8c1dab14",
        "colab": {
          "base_uri": "https://localhost:8080/",
          "height": 499
        }
      },
      "source": [
        "import pandas as pd\n",
        "import matplotlib.pyplot as plt \n",
        "from plotly.offline import iplot\n",
        "df = pd.read_csv(\"Result.csv\") \n",
        "print(df)\n",
        "plt.plot(df.N,df.SERIAL_TIME,\"b*-\",markersize=5, label=\"Serial Time\")\n",
        "plt.plot(df.N,df.PARALLEL_TIME,\"g*-\",markersize=5,label=\"Parallel Time\")\n",
        "plt.plot()\n",
        "plt.xlabel(\"Input Size N\")\n",
        "plt.ylabel(\"Time\")\n",
        "plt.title(\"Parallel Reduction\")\n",
        "plt.legend()\n",
        "plt.show()"
      ],
      "execution_count": 72,
      "outputs": [
        {
          "output_type": "stream",
          "text": [
            "        N  SERIAL_TIME  PARALLEL_TIME  TOTAL_COST   SPEEDUP  EFFICIENCY\n",
            "0    2048            6             15       38400  0.400000    0.000156\n",
            "1    3072            8             15       38400  0.533333    0.000208\n",
            "2    4096           11             21       53760  0.523810    0.000205\n",
            "3    5120           12             15       38400  0.800000    0.000312\n",
            "4    6144           14             17       43520  0.823529    0.000322\n",
            "5    7168           20             15       38400  1.333333    0.000521\n",
            "6    8192           19             15       38400  1.266667    0.000495\n",
            "7    9216           21             16       40960  1.312500    0.000513\n",
            "8   10240           24             15       38400  1.600000    0.000625\n",
            "9   11264           25             17       43520  1.470588    0.000574\n",
            "10  12288           28             15       38400  1.866667    0.000729\n"
          ],
          "name": "stdout"
        },
        {
          "output_type": "display_data",
          "data": {
            "image/png": "[encoded data removed]",
            "text/plain": [
              "<Figure size 432x288 with 1 Axes>"
            ]
          },
          "metadata": {
            "tags": [],
            "needs_background": "light"
          }
        }
      ]
    },
    {
      "cell_type": "code",
      "metadata": {
        "id": "hktdj7uz80-O",
        "outputId": "664a248c-804d-4f26-8880-9777b39e3714",
        "colab": {
          "base_uri": "https://localhost:8080/",
          "height": 499
        }
      },
      "source": [
        "import pandas as pd\n",
        "import matplotlib.pyplot as plt \n",
        "from plotly.offline import iplot\n",
        "df = pd.read_csv(\"Result.csv\") \n",
        "print(df)\n",
        "plt.plot(df.N,df.SPEEDUP,\"b*-\",markersize=5, label=\"Speedup\")\n",
        "plt.plot()\n",
        "plt.xlabel(\"Input Size N\")\n",
        "plt.ylabel(\"ratio\")\n",
        "plt.title(\"Parallel Reduction\")\n",
        "plt.legend()\n",
        "plt.show()"
      ],
      "execution_count": null,
      "outputs": [
        {
          "output_type": "stream",
          "text": [
            "        N  SERIAL_TIME  PARALLEL_TIME  TOTAL_COST   SPEEDUP  EFFICIENCY\n",
            "0    2048            6             15       38400  0.400000    0.000156\n",
            "1    3072            8             15       38400  0.533333    0.000208\n",
            "2    4096           11             21       53760  0.523810    0.000205\n",
            "3    5120           12             15       38400  0.800000    0.000312\n",
            "4    6144           14             17       43520  0.823529    0.000322\n",
            "5    7168           20             15       38400  1.333333    0.000521\n",
            "6    8192           19             15       38400  1.266667    0.000495\n",
            "7    9216           21             16       40960  1.312500    0.000513\n",
            "8   10240           24             15       38400  1.600000    0.000625\n",
            "9   11264           25             17       43520  1.470588    0.000574\n",
            "10  12288           28             15       38400  1.866667    0.000729\n"
          ],
          "name": "stdout"
        },
        {
          "output_type": "display_data",
          "data": {
            "image/png": "[encoded data removed]",
            "text/plain": [
              "<Figure size 432x288 with 1 Axes>"
            ]
          },
          "metadata": {
            "tags": [],
            "needs_background": "light"
          }
        }
      ]
    },
    {
      "cell_type": "code",
      "metadata": {
        "id": "RcEVDM_F89fa",
        "outputId": "75814005-64f9-4b3c-fc3b-1a72bf4e3a4e",
        "colab": {
          "base_uri": "https://localhost:8080/",
          "height": 499
        }
      },
      "source": [
        "import pandas as pd\n",
        "import matplotlib.pyplot as plt \n",
        "from plotly.offline import iplot\n",
        "df = pd.read_csv(\"Result.csv\") \n",
        "print(df)\n",
        "plt.plot(df.N,df.EFFICIENCY,\"g*-\",markersize=5,label=\"Efficiency\")\n",
        "plt.plot()\n",
        "plt.xlabel(\"Input Size N\")\n",
        "plt.ylabel(\"ratio\")\n",
        "plt.title(\"Parallel Reduction\")\n",
        "plt.legend()\n",
        "plt.show()"
      ],
      "execution_count": null,
      "outputs": [
        {
          "output_type": "stream",
          "text": [
            "        N  SERIAL_TIME  PARALLEL_TIME  TOTAL_COST   SPEEDUP  EFFICIENCY\n",
            "0    2048            6             15       38400  0.400000    0.000156\n",
            "1    3072            8             15       38400  0.533333    0.000208\n",
            "2    4096           11             21       53760  0.523810    0.000205\n",
            "3    5120           12             15       38400  0.800000    0.000312\n",
            "4    6144           14             17       43520  0.823529    0.000322\n",
            "5    7168           20             15       38400  1.333333    0.000521\n",
            "6    8192           19             15       38400  1.266667    0.000495\n",
            "7    9216           21             16       40960  1.312500    0.000513\n",
            "8   10240           24             15       38400  1.600000    0.000625\n",
            "9   11264           25             17       43520  1.470588    0.000574\n",
            "10  12288           28             15       38400  1.866667    0.000729\n"
          ],
          "name": "stdout"
        },
        {
          "output_type": "display_data",
          "data": {
            "image/png": "[encoded data removed]",
            "text/plain": [
              "<Figure size 432x288 with 1 Axes>"
            ]
          },
          "metadata": {
            "tags": [],
            "needs_background": "light"
          }
        }
      ]
    }
  ]
}